{
 "cells": [
  {
   "cell_type": "markdown",
   "id": "3eb1954c",
   "metadata": {
    "id": "3eb1954c"
   },
   "source": [
    "### Fala devs, blz?\n",
    "\n",
    "Temos a honra de apresentar nossa 5ᵃ lista de exercícios do Curso de Python 2024 ! 🥳\n",
    "\n",
    "Dessa vez o tema será o módulo 5, que retrata sobre importações de bibliotecas e sobre a biblioteca _Numpy_ - muito importante para realização de códigos matemáticos e melhora de desempenho das operações.\n",
    "\n",
    "Esperamos que seja um estudo produtivo e que se divirtam aprendendo!"
   ]
  },
  {
   "cell_type": "markdown",
   "id": "2accc8ad",
   "metadata": {
    "id": "2accc8ad"
   },
   "source": [
    "---\n",
    "### INSTRUÇÕES:\n",
    "\n",
    "A realização da lista deve ser feita através no Jupyter Notebook.\n",
    "\n",
    "É primordial enviar as listas para praticar todo o conhecimento adquirido durante o curso.\n",
    "\n",
    "Este DESAFIO foi elaborado para quebrar a cabeça. Por isso, não desista de tentar e de continuar com o curso. Ao longo das listas, você perceberá que terá cada vez mais ferramentas para completá-las.\n",
    "\n",
    "Se surgirem dúvidas sobre a lista, assista as monitorias para entender melhor. Se o problema não for resolvido, envie uma mensagem para o formulário de dúvidas.\n",
    "\n",
    "---"
   ]
  },
  {
   "cell_type": "code",
   "execution_count": 3,
   "id": "d083b755",
   "metadata": {
    "executionInfo": {
     "elapsed": 460,
     "status": "ok",
     "timestamp": 1728655509818,
     "user": {
      "displayName": "FEA dev",
      "userId": "13103045966764146615"
     },
     "user_tz": 180
    },
    "id": "d083b755"
   },
   "outputs": [],
   "source": [
    "# Vamos começar importando algumas bibliotecas importantes para os exercícios. ps: Escolham o método que desejarem para resolução.\n",
    "import math\n",
    "import numpy as np\n",
    "import random as rd\n",
    "import datetime"
   ]
  },
  {
   "cell_type": "markdown",
   "id": "2c3bcf6b",
   "metadata": {
    "id": "2c3bcf6b"
   },
   "source": [
    "## Questão 0\n",
    "### Dr. Keynes"
   ]
  },
  {
   "cell_type": "markdown",
   "id": "8cd66634",
   "metadata": {
    "id": "8cd66634"
   },
   "source": [
    "No início do século XX, o economista John Maynard Keynes revolucionou o pensamento econômico ao destacar a importância do Produto Interno Bruto (PIB) como uma medida essencial para entender a saúde de uma economia. O PIB é a soma de todos os bens e serviços finais produzidos em uma economia durante um determinado período. Para calculá-lo, basta multiplicar o valor de cada item pelo número de unidades vendidas.\n",
    "\n",
    "Sua missão é ajudar o governo das Ilhas Cayman a calcular o PIB do país neste ano, baseado nos dados fornecidos de três setores da economia: turismo, exportação de frutas tropicais, venda de acessórios, entrada de dinheiro estrangeiro e até a venda de valiosas pinturas.\n",
    "\n",
    "Crie duas matrizes usando o NumPy:\n",
    "\n",
    "A primeira matriz representa o valor unitário dos itens de cada setor.\n",
    "\n",
    "A segunda matriz representa a quantidade vendida de cada item.\n",
    "\n",
    "\n",
    "Sua missão é calcular o PIB das Ilhas Cayman com base com estes dados fictícios. Multiplique as duas matrizes para descobrir o PIB das Ilhas Cayman e exiba o resultado total e printar a seguinte mensagem:\n",
    "\"Com base nos cálculos, o Produto Interno Bruto (PIB) das Ilhas Cayman alcança X bilhões de dólares! Graças ao turismo, à arte, às frutas tropicais e à entrada de dinheiro estrangeiro.\""
   ]
  },
  {
   "cell_type": "markdown",
   "id": "052d04c2",
   "metadata": {
    "id": "052d04c2"
   },
   "source": [
    "![image.png](attachment:image.png)"
   ]
  },
  {
   "cell_type": "code",
   "execution_count": 4,
   "id": "19842b22",
   "metadata": {
    "id": "19842b22"
   },
   "outputs": [
    {
     "name": "stdout",
     "output_type": "stream",
     "text": [
      "Com base no calculo, o Produto Interno Bruto (PIB) das ilhas Cayman alcança 1805.00 bilhões de dolares!\n"
     ]
    }
   ],
   "source": [
    "# Faça a multiplicação de matrizes e o print aqui\n",
    "valores_unitarios = np.array([\n",
    "    [1.5, 0.8, 0.3, 2.0, 5.0]\n",
    "])\n",
    "quantidade_vendidas = np.array([\n",
    "    [500, 700, 300, 200, 1]\n",
    "])\n",
    "\n",
    "pib = (valores_unitarios * quantidade_vendidas).sum()\n",
    "\n",
    "print(f\"Com base no calculo, o Produto Interno Bruto (PIB) das ilhas Cayman alcança {pib:.2f} bilhões de dolares!\")\n"
   ]
  },
  {
   "cell_type": "markdown",
   "id": "b21fc197",
   "metadata": {
    "id": "b21fc197"
   },
   "source": [
    "## Questão 1\n",
    "\n",
    "a) Filtrando notas abaixo de 7 Um professor quer saber quais alunos tiraram notas abaixo de 7 em uma turma de 100 alunos. Dado um array com as notas de cada aluno, filtre e exiba apenas as notas menores que 7, para que o professor possa ver quais alunos precisam de ajuda.\n",
    "Escreva um código para criar o array de notas e realizar o filtro das notas abaixo de 7."
   ]
  },
  {
   "cell_type": "code",
   "execution_count": 5,
   "id": "42c7e7a2",
   "metadata": {
    "id": "42c7e7a2",
    "outputId": "a791c50b-077a-4dee-95b3-9616bc3b2a05"
   },
   "outputs": [
    {
     "data": {
      "text/plain": [
       "array([6.1208172 , 3.95599729, 5.84308378, 9.23781972, 8.30886894,\n",
       "       6.18941219, 1.90186038, 6.73531118, 1.30208816, 6.94913797,\n",
       "       9.15899856, 2.58291208, 0.21711715, 3.03785056, 9.27527515,\n",
       "       3.18082657, 2.29284213, 3.03992224, 3.72457152, 8.02125752,\n",
       "       5.64466808, 0.21986797, 3.16164154, 8.28102795, 2.58635979,\n",
       "       1.79600105, 2.95167004, 2.4889536 , 9.15886821, 9.41541595,\n",
       "       1.88527585, 6.58342508, 8.0630433 , 4.58734878, 8.03570373,\n",
       "       7.83900311, 4.27256487, 6.14532456, 9.37837484, 8.18936707,\n",
       "       6.10481635, 8.84570696, 5.49178144, 0.87854769, 5.64637283,\n",
       "       8.12599845, 7.51604279, 3.04344235, 3.03262674, 1.93565253,\n",
       "       8.51713552, 8.64183496, 8.54440411, 5.67701073, 3.3066818 ,\n",
       "       6.88310168, 2.95595306, 6.59413805, 1.63331193, 5.17876788,\n",
       "       5.09193375, 7.77847061, 5.01276627, 6.15473198, 5.75843685,\n",
       "       0.51919777, 3.5660243 , 6.77082642, 9.18529241, 7.59684187,\n",
       "       8.0901177 , 8.59864709, 1.85370828, 0.65263021, 9.91436818,\n",
       "       5.75562997, 5.36924638, 3.23589735, 9.08308544, 6.86544045,\n",
       "       9.82760207, 4.93360217, 2.3905335 , 3.93574682, 2.88426979,\n",
       "       9.54931877, 6.16518706, 6.02749495, 8.84586361, 7.66149118,\n",
       "       0.16360586, 7.29963144, 6.25245423, 3.74408187, 4.51525343,\n",
       "       8.3633899 , 7.5280234 , 5.65263248, 8.56320836, 2.29892454])"
      ]
     },
     "execution_count": 5,
     "metadata": {},
     "output_type": "execute_result"
    }
   ],
   "source": [
    "notas = np.random.uniform(0, 10, size = 100)\n",
    "notas"
   ]
  },
  {
   "cell_type": "code",
   "execution_count": 6,
   "id": "e1caa05f",
   "metadata": {
    "id": "e1caa05f"
   },
   "outputs": [
    {
     "data": {
      "text/plain": [
       "array([6.1208172 , 3.95599729, 5.84308378, 6.18941219, 1.90186038,\n",
       "       6.73531118, 1.30208816, 6.94913797, 2.58291208, 0.21711715,\n",
       "       3.03785056, 3.18082657, 2.29284213, 3.03992224, 3.72457152,\n",
       "       5.64466808, 0.21986797, 3.16164154, 2.58635979, 1.79600105,\n",
       "       2.95167004, 2.4889536 , 1.88527585, 6.58342508, 4.58734878,\n",
       "       4.27256487, 6.14532456, 6.10481635, 5.49178144, 0.87854769,\n",
       "       5.64637283, 3.04344235, 3.03262674, 1.93565253, 5.67701073,\n",
       "       3.3066818 , 6.88310168, 2.95595306, 6.59413805, 1.63331193,\n",
       "       5.17876788, 5.09193375, 5.01276627, 6.15473198, 5.75843685,\n",
       "       0.51919777, 3.5660243 , 6.77082642, 1.85370828, 0.65263021,\n",
       "       5.75562997, 5.36924638, 3.23589735, 6.86544045, 4.93360217,\n",
       "       2.3905335 , 3.93574682, 2.88426979, 6.16518706, 6.02749495,\n",
       "       0.16360586, 6.25245423, 3.74408187, 4.51525343, 5.65263248,\n",
       "       2.29892454])"
      ]
     },
     "execution_count": 6,
     "metadata": {},
     "output_type": "execute_result"
    }
   ],
   "source": [
    "#Escreva aqui o seu código\n",
    "filtro = notas < 7\n",
    "\n",
    "notas_reprovados = notas[filtro]\n",
    "\n",
    "notas_reprovados"
   ]
  },
  {
   "cell_type": "markdown",
   "id": "c922a69d",
   "metadata": {
    "id": "c922a69d"
   },
   "source": [
    "b) Enviando uma lista de itens para a loja\n",
    "\n",
    "Você foi ao mercado e anotou uma lista de itens, mas percebeu que alguns deles estavam repetidos. Agora você quer enviar para a loja apenas os itens únicos. Dado um array com sua lista de compras (com repetições), crie um código que mostre a lista final sem itens duplicados."
   ]
  },
  {
   "cell_type": "code",
   "execution_count": 7,
   "id": "b58b54bf",
   "metadata": {
    "id": "b58b54bf",
    "outputId": "086c4804-114f-4b1f-a201-c6c73a91bd61"
   },
   "outputs": [
    {
     "name": "stdout",
     "output_type": "stream",
     "text": [
      "['banana' 'cerveja' 'feijão' 'macarrão' 'morango' 'picanha']\n"
     ]
    }
   ],
   "source": [
    "# Dica: Se não souber uma função, procure a documentação oficial do numpy!\n",
    "lista_itens = np.array(['macarrão', 'picanha', 'feijão', 'banana', 'morango', 'picanha', 'cerveja', 'macarrão', 'cerveja', 'banana'])\n",
    "\n",
    "valores_unicos = np.unique(lista_itens)\n",
    "\n",
    "print(valores_unicos)"
   ]
  },
  {
   "cell_type": "markdown",
   "id": "5c89226e",
   "metadata": {
    "id": "5c89226e"
   },
   "source": [
    "c) Você é um explorador de planetas e precisa registrar a temperatura em 9 pontos de uma lua que você está investigando. Esses pontos estão organizados em uma grade 3x3. Crie uma matriz 3x3 para representar essas temperaturas, preenchida com números inteiros entre 100°C e 150°C, e exiba a matriz. Por fim, localize a temperatura registrada na segunda linha e terceira coluna."
   ]
  },
  {
   "cell_type": "code",
   "execution_count": 8,
   "id": "9de124ef",
   "metadata": {
    "id": "9de124ef"
   },
   "outputs": [
    {
     "name": "stdout",
     "output_type": "stream",
     "text": [
      "[['100°c' '120°c' '150°c']\n",
      " ['138°c' '112°c' '129°c']\n",
      " ['144°c' '110°c' '105°c']]\n"
     ]
    }
   ],
   "source": [
    "lista_temperatura = ['100°c', '120°c', '150°c', '138°c', '112°c', '129°c', '144°c', '110°c', '105°c']\n",
    "\n",
    "temperatura = np.array(lista_temperatura).reshape(3, 3)\n",
    "\n",
    "temperatura[1, 2]\n",
    "\n",
    "print(temperatura)"
   ]
  },
  {
   "cell_type": "markdown",
   "id": "9e0dec8a",
   "metadata": {},
   "source": [
    "## Questão 2 - Exercício Cancelado - Não é necessário realizar a questão 2\n",
    "\n",
    "Não será necessário realizar a Questão 2.\n",
    "\n",
    "O conteúdo exigido não foi abordado em aula e está mais relacionado à biblioteca datetime do que a Numpy. Para aqueles que tiverem interesse em aprender mais sobre datetime, recomendamos acessar a documentação oficial do Python e tentar resolver o exercício como um desafio adicional. No entanto, esse conteúdo não será cobrado.\n",
    "\n",
    "Pedimos desculpas pelo inconveniente!\n",
    "\n",
    "<div style='color: red'>Você é um famoso consultor financeiro internacional, constantemente viajando entre diferentes países e lidando com fusos horários variados. Como você é muito ocupado, precisa de um sistema que te ajude a organizar compromissos importantes automaticamente no horário local de cada país.\n",
    "\n",
    "Sua missão é criar um código que, ao receber a data e hora de um compromisso em um fuso horário (GMT), seja capaz de converter essa data e hora para o fuso horário local de outros três países: Brasil (GMT-3), Japão (GMT+9) e Estados Unidos (Nova York, GMT-4).\n",
    "\n",
    "Receba a data e hora de um compromisso (em GMT) e converta para os fusos horários locais do Brasil, Japão e Nova York.\n",
    "Exiba uma mensagem para o usuário indicando os horários em cada país, facilitando a organização da agenda.\n",
    "\n",
    "Saída Esperada:\n",
    "\n",
    "\"Seu compromisso será às 12:00 no Brasil, às 00:00 no Japão (do dia seguinte), e às 11:00 em Nova York.\"</div>"
   ]
  },
  {
   "cell_type": "code",
   "execution_count": 9,
   "id": "967482fd",
   "metadata": {},
   "outputs": [],
   "source": [
    "compromisso_gmt = '2024-10-10 15:00:00'"
   ]
  },
  {
   "cell_type": "markdown",
   "id": "2aa99bcb",
   "metadata": {
    "id": "2aa99bcb"
   },
   "source": [
    "## Questão 3\n",
    "\n",
    "Uma loja de eletrônicos está fazendo uma análise dos preços de seus produtos e quer saber quais itens estão acima do preço médio. Dado um array com os preços de 17 produtos, calcule o preço médio e o desvio padrão e exiba apenas os produtos que custam mais do que a média.\n",
    "\n",
    "![image.png](attachment:image.png)\n",
    "\n",
    "Escreva um código para calcular o preço médio e filtrar os produtos acima desse valor."
   ]
  },
  {
   "cell_type": "code",
   "execution_count": 10,
   "id": "0f567fac",
   "metadata": {
    "id": "0f567fac",
    "outputId": "6e93c78d-779e-46f4-897a-ae5f089cee83"
   },
   "outputs": [
    {
     "name": "stdout",
     "output_type": "stream",
     "text": [
      "[23.1396193   0.62255848 19.00944705 22.46411648 14.95521037  6.74389937\n",
      "  5.94188594 22.81592137  5.0733251   2.65019443 20.56079455 28.60180039\n",
      "  0.11844799 15.3657679  24.37862885 18.375782   21.65265952]\n"
     ]
    }
   ],
   "source": [
    "np.random.seed(10)\n",
    "\n",
    "preco_produtos = np.random.uniform(0, 30, 17)\n",
    "\n",
    "print(preco_produtos)"
   ]
  },
  {
   "cell_type": "code",
   "execution_count": 11,
   "id": "caac3eb3",
   "metadata": {
    "id": "caac3eb3"
   },
   "outputs": [
    {
     "name": "stdout",
     "output_type": "stream",
     "text": [
      "O preço médio dos produtos é de R$14.85, com um desvio padrão de R$9.04.\n",
      "\n",
      "Os produtos com preço acima da média são: \n",
      "[23.1396193  19.00944705 22.46411648 14.95521037 22.81592137 20.56079455\n",
      " 28.60180039 15.3657679  24.37862885 18.375782   21.65265952]\n"
     ]
    }
   ],
   "source": [
    "# Escreva aqui o seu código\n",
    "preco_medio = np.mean(preco_produtos)\n",
    "desvpad = np.std(preco_produtos)\n",
    "\n",
    "\n",
    "acima_media = preco_produtos[preco_produtos > preco_medio]\n",
    "\n",
    "print(f\"O preço médio dos produtos é de R${preco_medio:.2f}, com um desvio padrão de R${desvpad:.2f}.\\n\")\n",
    "\n",
    "print(f\"Os produtos com preço acima da média são: \\n{acima_media}\")"
   ]
  },
  {
   "cell_type": "markdown",
   "id": "90b9450c",
   "metadata": {
    "id": "90b9450c"
   },
   "source": [
    "#\n",
    "Agora, utilize dos métodos .mean() e .std() para calcular a média e o desvio padrão do array anterior"
   ]
  },
  {
   "cell_type": "code",
   "execution_count": 12,
   "id": "36f4ea70",
   "metadata": {
    "id": "36f4ea70",
    "outputId": "07d7c5f1-e9f8-4497-a100-0a9a04f69c32"
   },
   "outputs": [
    {
     "name": "stdout",
     "output_type": "stream",
     "text": [
      "O preço é médio dos produtos acima da média é de R$21.03, com um desvio padrão de R$3.80.\n",
      "\n"
     ]
    }
   ],
   "source": [
    "print(f\"O preço é médio dos produtos acima da média é de R${acima_media.mean():.2f}, com um desvio padrão de R${acima_media.std():.2f}.\\n\")"
   ]
  },
  {
   "cell_type": "markdown",
   "id": "02190760",
   "metadata": {
    "id": "02190760"
   },
   "source": [
    "## Desafio (Opcional)\n",
    "\n",
    "Uma grande cidade está implementando um novo sistema de transporte público e precisa que você analise os dados de tráfego para otimizar a distribuição de veículos em diferentes rotas. Eles te forneceram uma matriz tridimensional que representa a quantidade de passageiros transportados em 5 linhas de ônibus, durante 7 dias da semana, em 4 diferentes horários de pico (manhã, meio-dia, tarde e noite).\n",
    "\n",
    "Cada dimensão da matriz tem o seguinte significado:\n",
    "\n",
    "Eixo 0: Representa as 5 linhas de ônibus.\n",
    "Eixo 1: Representa os 7 dias da semana.\n",
    "Eixo 2: Representa os 4 horários de pico.\n",
    "\n",
    "Sua missão é ajudar a cidade a otimizar o sistema, resolvendo os seguintes desafios:\n",
    "\n",
    "\n",
    "Média de passageiros por linha: Calcule a média de passageiros transportados em cada uma das 5 linhas de ônibus ao longo da semana.\n",
    "\n",
    "Dia mais movimentado: Encontre qual dia da semana (entre os 7 dias) teve o maior número total de passageiros transportados em todas as linhas e horários de pico.\n",
    "\n",
    "Horário de pico mais movimentado: Identifique qual dos 4 horários de pico (manhã, meio-dia, tarde ou noite) transporta o maior número médio de passageiros.\n",
    "\n",
    "Redistribuição de veículos: A cidade está considerando mover veículos de linhas menos utilizadas para as mais movimentadas. Encontre as duas linhas de ônibus que têm a maior diferença no número total de passageiros ao longo da semana e proponha uma redistribuição onde 10% dos veículos da linha mais tranquila serão movidos para a linha mais movimentada.\n",
    "\n",
    "Pico de operação: Encontre as combinações de linha, dia e horário onde o número de passageiros excede 90% do valor máximo observado em toda a matriz. Estes representam momentos de pico extremo.\n",
    "\n",
    "\n",
    "Utilize operações de agregação do NumPy (como mean, sum, etc.) para resolver cada um dos desafios.\n",
    "Para o último desafio, utilize a técnica de indexação booleana para encontrar as posições que atendem à condição de pico de operação."
   ]
  },
  {
   "cell_type": "code",
   "execution_count": 28,
   "id": "90c91b22",
   "metadata": {
    "id": "90c91b22",
    "outputId": "10fd6acd-facb-41be-99a5-505a182111f4"
   },
   "outputs": [
    {
     "data": {
      "text/plain": [
       "array([[[149, 256, 289, 239],\n",
       "        [280, 168, 194, 123],\n",
       "        [ 58, 278, 281, 240],\n",
       "        [205, 162, 208, 258],\n",
       "        [ 57, 254, 193, 163],\n",
       "        [231, 281, 130,  77],\n",
       "        [ 94, 255, 253, 115]],\n",
       "\n",
       "       [[225,  80, 262, 136],\n",
       "        [175, 196, 171, 187],\n",
       "        [156,  91, 283, 240],\n",
       "        [179, 260, 153, 194],\n",
       "        [256,  55, 108,  50],\n",
       "        [258, 182, 160, 214],\n",
       "        [155, 229,  77,  81]],\n",
       "\n",
       "       [[ 52, 118,  88, 155],\n",
       "        [261, 197,  68, 163],\n",
       "        [295, 185, 150, 158],\n",
       "        [159, 208, 240,  61],\n",
       "        [285, 117, 174, 243],\n",
       "        [233, 181, 141, 128],\n",
       "        [205, 207,  83, 267]],\n",
       "\n",
       "       [[135, 185,  66, 144],\n",
       "        [ 64, 268,  81,  59],\n",
       "        [ 88,  97, 194, 183],\n",
       "        [212, 223, 237, 202],\n",
       "        [191, 168, 285, 282],\n",
       "        [ 81,  82, 126, 222],\n",
       "        [183, 192, 225, 144]],\n",
       "\n",
       "       [[132, 178, 281, 185],\n",
       "        [264,  66, 114,  58],\n",
       "        [268,  94, 176, 215],\n",
       "        [144, 253, 183, 283],\n",
       "        [200, 230, 119, 260],\n",
       "        [238, 141,  79, 266],\n",
       "        [170, 275, 270, 257]]], dtype=int32)"
      ]
     },
     "execution_count": 28,
     "metadata": {},
     "output_type": "execute_result"
    }
   ],
   "source": [
    "np.random.seed(5)\n",
    "passageiros = np.random.randint(50, 300, size=(5, 7, 4))\n",
    "passageiros"
   ]
  },
  {
   "cell_type": "code",
   "execution_count": 29,
   "id": "a3e21930",
   "metadata": {
    "id": "a3e21930"
   },
   "outputs": [
    {
     "name": "stdout",
     "output_type": "stream",
     "text": [
      "A média de passgeiros por linha é: [196.10714286 171.89285714 172.21428571 164.96428571 192.82142857]\n"
     ]
    }
   ],
   "source": [
    "import numpy as np\n",
    "\n",
    "media_por_linha = np.mean(passageiros, axis=(1,2))\n",
    "\n",
    "print(\"A média de passgeiros por linha é: {}\".format(media_por_linha))"
   ]
  },
  {
   "cell_type": "code",
   "execution_count": 30,
   "id": "5a4dea78",
   "metadata": {},
   "outputs": [
    {
     "name": "stdout",
     "output_type": "stream",
     "text": [
      "Dia mais movimentado:  Quinta\n"
     ]
    }
   ],
   "source": [
    "passageiros_por_dia = np.sum(passageiros, axis=(0, 2))\n",
    "\n",
    "dias_mais_movimentado = np.argmax(passageiros_por_dia)\n",
    "\n",
    "dias_da_semana = {\n",
    "    0: \"Segunda\",\n",
    "    1: \"Terça\",\n",
    "    2: \"Quarta\",\n",
    "    3: \"Quinta\",\n",
    "    4: \"Sexta\",\n",
    "    5: \"Sábado\",\n",
    "    6: \"Domingo\"\n",
    "}\n",
    "\n",
    "print(\"Dia mais movimentado: \", dias_da_semana[dias_mais_movimentado])"
   ]
  },
  {
   "cell_type": "code",
   "execution_count": 31,
   "id": "75e4fb14",
   "metadata": {},
   "outputs": [
    {
     "name": "stdout",
     "output_type": "stream",
     "text": [
      "Horário mais movimentado: Meio-dia\n"
     ]
    }
   ],
   "source": [
    "media_por_horario = np.mean(passageiros, axis=(0, 1))\n",
    "horario_mais_movimentado = np.argmax(media_por_horario)\n",
    "\n",
    "horarios = {\n",
    "    0: \"Manhã\",\n",
    "    1: \"Meio-dia\",\n",
    "    2: \"Tarde\",\n",
    "    3: \"Noite\"\n",
    "}\n",
    "\n",
    "print(\"Horário mais movimentado:\", horario[horario_mais_movimentado])"
   ]
  },
  {
   "cell_type": "code",
   "execution_count": 32,
   "id": "935fb968",
   "metadata": {},
   "outputs": [
    {
     "name": "stdout",
     "output_type": "stream",
     "text": [
      "Linha mais movimentada:  1\n",
      "Linha menos movimentada:  4\n",
      "Mover 549 passageiros da linha mais movimentada para a menos movimentada\n",
      "Valor final de cada linha:\n",
      "\tMenos movimentada: 5168\n",
      "\tMais movimentada: 4942\n"
     ]
    }
   ],
   "source": [
    "total_por_linha = np.sum(passageiros, axis=(1, 2))\n",
    "linha_mais_movimentada = np.argmax(total_por_linha)\n",
    "linha_menos_movimentada = np.argmin(total_por_linha)\n",
    "\n",
    "print(\"Linha mais movimentada: \", linha_mais_movimentada + 1)\n",
    "print(\"Linha menos movimentada: \", linha_menos_movimentada + 1)\n",
    "\n",
    "print(f\"Mover {total_por_linha[linha_mais_movimentada] * 0.1:.0f} passageiros da linha mais movimentada para a menos movimentada\")\n",
    "\n",
    "print(f\"Valor final de cada linha:\\n\\tMenos movimentada: {total_por_linha[linha_menos_movimentada] + total_por_linha[linha_mais_movimentada] * 0.1:.0f}\\n\\tMais movimentada: {total_por_linha[linha_mais_movimentada] * 0.9:.0f}\")"
   ]
  },
  {
   "cell_type": "code",
   "execution_count": 33,
   "id": "0bed074f",
   "metadata": {},
   "outputs": [
    {
     "name": "stdout",
     "output_type": "stream",
     "text": [
      "O limite de passageiros para o horário de pico é de 266 passageiros\n",
      "Momentos de pico extremo (linha, dia, horário):\n",
      " [['1' 'Segunda' 'Tarde']\n",
      " ['1' 'Terça' 'Manhã']\n",
      " ['1' 'Quarta' 'Meio-dia']\n",
      " ['1' 'Quarta' 'Tarde']\n",
      " ['1' 'Sábado' 'Meio-dia']\n",
      " ['2' 'Quarta' 'Tarde']\n",
      " ['3' 'Quarta' 'Manhã']\n",
      " ['3' 'Sexta' 'Manhã']\n",
      " ['3' 'Domingo' 'Noite']\n",
      " ['4' 'Terça' 'Meio-dia']\n",
      " ['4' 'Sexta' 'Tarde']\n",
      " ['4' 'Sexta' 'Noite']\n",
      " ['5' 'Segunda' 'Tarde']\n",
      " ['5' 'Quarta' 'Manhã']\n",
      " ['5' 'Quinta' 'Noite']\n",
      " ['5' 'Sábado' 'Noite']\n",
      " ['5' 'Domingo' 'Meio-dia']\n",
      " ['5' 'Domingo' 'Tarde']]\n"
     ]
    }
   ],
   "source": [
    "max_passageiros = np.max(passageiros)\n",
    "limite_pico = max_passageiros * 0.9\n",
    "\n",
    "print(f\"O limite de passageiros para o horário de pico é de {limite_pico:.0f} passageiros\")\n",
    "\n",
    "# Se não souber com argwhere, pode usar a indexação booleana\n",
    "picos_de_operacao = np.argwhere(passageiros > limite_pico)\n",
    "\n",
    "# Não precisa fazer isso, apenas para melhorar a visualização\n",
    "picos_de_operacao = np.array([(linha + 1, dias_da_semana[dia], horarios[horario]) for linha, dia, horario in picos_de_operacao])\n",
    "\n",
    "print(\"Momentos de pico extremo (linha, dia, horário):\\n\", picos_de_operacao)"
   ]
  }
 ],
 "metadata": {
  "colab": {
   "provenance": []
  },
  "kernelspec": {
   "display_name": "Python 3",
   "language": "python",
   "name": "python3"
  },
  "language_info": {
   "codemirror_mode": {
    "name": "ipython",
    "version": 3
   },
   "file_extension": ".py",
   "mimetype": "text/x-python",
   "name": "python",
   "nbconvert_exporter": "python",
   "pygments_lexer": "ipython3",
   "version": "3.11.9"
  }
 },
 "nbformat": 4,
 "nbformat_minor": 5
}
